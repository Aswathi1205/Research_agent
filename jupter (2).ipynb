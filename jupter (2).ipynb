{
 "cells": [
  {
   "cell_type": "code",
   "execution_count": null,
   "metadata": {
    "id": "5113ffda-cafe-47b4-b39c-b47ae1ad79f7",
    "scrolled": true
   },
   "outputs": [
    {
     "name": "stderr",
     "output_type": "stream",
     "text": [
      "/opt/conda/envs/Python-RT24.1/lib/python3.11/site-packages/ibm_watsonx_ai/foundation_models/utils/utils.py:436: LifecycleWarning: Model 'google/flan-t5-xl' is in deprecated state from 2025-06-18 until 2025-10-15. IDs of alternative models: None. Further details: https://dataplatform.cloud.ibm.com/docs/content/wsj/analyze-data/fm-model-lifecycle.html?context=wx&audience=wdp\n",
      "  warn(model_state_warning, category=LifecycleWarning)\n"
     ]
    },
    {
     "name": "stdout",
     "output_type": "stream",
     "text": [
      "Generative AI is a new generation of computer programs that can generate new content and interactive content\n"
     ]
    }
   ],
   "source": [
    "from ibm_watsonx_ai.foundation_models import ModelInference\n",
    "from ibm_watsonx_ai.credentials import Credentials\n",
    "\n",
    "\n",
    "api_key = \"[your API key]\"\n",
    "project_id = \"[your project ID]\"\n",
    "url = \"https://us-south.ml.cloud.ibm.com\"\n",
    "\n",
    "creds = Credentials(api_key=api_key, url=url)\n",
    "\n",
    "\n",
    "model = ModelInference(\n",
    "    model_id=\"google/flan-t5-xl\",\n",
    "    credentials=creds,\n",
    "    project_id=project_id\n",
    ")\n",
    "\n",
    "\n",
    "prompt = (\n",
    "    \"Write a detailed academic-style summary (minimum 200 words) \"\n",
    "    \"on the impact of generative AI in education. \"\n",
    "    \"Include key applications, benefits, and challenges.\"\n",
    ")\n",
    "\n",
    "response = model.generate(prompt=prompt)\n",
    "\n",
    "\n",
    "print(response['results'][0]['generated_text'])\n"
   ]
  },
  {
   "cell_type": "code",
   "execution_count": 45,
   "metadata": {
    "id": "06befc67-75f0-4e3e-bc08-e2a4e8cd486f"
   },
   "outputs": [
    {
     "name": "stdout",
     "output_type": "stream",
     "text": [
      "Requirement already satisfied: arxiv in /opt/conda/envs/Python-RT24.1/lib/python3.11/site-packages (2.2.0)\n",
      "Requirement already satisfied: feedparser~=6.0.10 in /opt/conda/envs/Python-RT24.1/lib/python3.11/site-packages (from arxiv) (6.0.11)\n",
      "Requirement already satisfied: requests~=2.32.0 in /opt/conda/envs/Python-RT24.1/lib/python3.11/site-packages (from arxiv) (2.32.4)\n",
      "Requirement already satisfied: sgmllib3k in /opt/conda/envs/Python-RT24.1/lib/python3.11/site-packages (from feedparser~=6.0.10->arxiv) (1.0.0)\n",
      "Requirement already satisfied: charset_normalizer<4,>=2 in /opt/conda/envs/Python-RT24.1/lib/python3.11/site-packages (from requests~=2.32.0->arxiv) (2.0.4)\n",
      "Requirement already satisfied: idna<4,>=2.5 in /opt/conda/envs/Python-RT24.1/lib/python3.11/site-packages (from requests~=2.32.0->arxiv) (3.7)\n",
      "Requirement already satisfied: urllib3<3,>=1.21.1 in /opt/conda/envs/Python-RT24.1/lib/python3.11/site-packages (from requests~=2.32.0->arxiv) (1.26.19)\n",
      "Requirement already satisfied: certifi>=2017.4.17 in /opt/conda/envs/Python-RT24.1/lib/python3.11/site-packages (from requests~=2.32.0->arxiv) (2025.6.15)\n"
     ]
    }
   ],
   "source": [
    "!pip install arxiv"
   ]
  },
  {
   "cell_type": "code",
   "execution_count": 46,
   "metadata": {
    "id": "755be811-3084-48eb-a7b7-c7b9905ffa23"
   },
   "outputs": [],
   "source": [
    "import arxiv\n",
    "\n",
    "def fetch_papers(query, max_results=3):\n",
    "    search = arxiv.Search(\n",
    "        query=query,\n",
    "        max_results=max_results,\n",
    "        sort_by=arxiv.SortCriterion.Relevance\n",
    "    )\n",
    "\n",
    "    papers = []\n",
    "    for result in search.results():\n",
    "        papers.append({\n",
    "            \"title\": result.title,\n",
    "            \"summary\": result.summary,\n",
    "            \"link\": result.entry_id\n",
    "        })\n",
    "    \n",
    "    return papers\n"
   ]
  },
  {
   "cell_type": "code",
   "execution_count": 47,
   "metadata": {
    "id": "4da9d7ac-f88e-4d80-bf9e-b888bd711eb3"
   },
   "outputs": [
    {
     "name": "stderr",
     "output_type": "stream",
     "text": [
      "/tmp/wsuser/ipykernel_216/2591701157.py:11: DeprecationWarning: The 'Search.results' method is deprecated, use 'Client.results' instead\n",
      "  for result in search.results():\n"
     ]
    }
   ],
   "source": [
    "query = \"Generative AI in Education\"\n",
    "papers = fetch_papers(query)\n"
   ]
  },
  {
   "cell_type": "code",
   "execution_count": 48,
   "metadata": {
    "id": "2f1421dd-3a46-4ed2-bb97-6d0c6f601b0e",
    "scrolled": true
   },
   "outputs": [
    {
     "name": "stdout",
     "output_type": "stream",
     "text": [
      "\n",
      " Title: White Paper: The Generative Education (GenEd) Framework\n",
      " Summary: The Generative Education (GenEd) Framework explores the transition from Large Language Models\n",
      " Link: http://arxiv.org/abs/2311.10732v2\n",
      "\n",
      " Title: Generative AI in Education: A Study of Educators' Awareness, Sentiments, and Influencing Factors\n",
      " Summary: This study delves into university instructors' experiences and attitudes toward AI language models, filling a\n",
      " Link: http://arxiv.org/abs/2403.15586v1\n",
      "\n",
      " Title: Enhancing AI-Driven Education: Integrating Cognitive Frameworks, Linguistic Feedback Analysis, and Ethical Considerations for Improved Content Generation\n",
      " Summary: This paper synthesizes insights from four related studies to propose a comprehensive framework for enhancing\n",
      " Link: http://arxiv.org/abs/2505.00339v1\n"
     ]
    }
   ],
   "source": [
    "for paper in papers:\n",
    "    prompt = (\n",
    "        f\"Write a detailed and clear summary of the following research paper abstract:\\n\\n\"\n",
    "        f\"{paper['summary']}\\n\\n\"\n",
    "        f\"The summary should be at least 100 words.\"\n",
    "    )\n",
    "    \n",
    "    response = model.generate(prompt=prompt)  # No extra args\n",
    "\n",
    "    summary = response['results'][0]['generated_text']\n",
    "    \n",
    "    print(f\"\\n Title: {paper['title']}\")\n",
    "    print(f\" Summary: {summary}\")\n",
    "    print(f\" Link: {paper['link']}\")\n"
   ]
  },
  {
   "cell_type": "code",
   "execution_count": 49,
   "metadata": {
    "id": "770c0aaa-dca6-4907-8082-577abdd5d10c"
   },
   "outputs": [
    {
     "name": "stdout",
     "output_type": "stream",
     "text": [
      "\n",
      " Paper 1: White Paper: The Generative Education (GenEd) Framework\n",
      " Summary: This paper explores the transition from Large Language Models (LLMs) to Large Multimodal...\n",
      "\n",
      " Paper 2: Generative AI in Education: A Study of Educators' Awareness, Sentiments, and Influencing Factors\n",
      " Summary: This study explores the attitudes of university instructors toward generative AI and large language models....\n",
      "\n",
      " Paper 3: Enhancing AI-Driven Education: Integrating Cognitive Frameworks, Linguistic Feedback Analysis, and Ethical Considerations for Improved Content Generation\n",
      " Summary: This paper synthesizes insights from four related studies to propose a comprehensive framework for enhancing...\n"
     ]
    }
   ],
   "source": [
    "for idx, paper in enumerate(papers):\n",
    "    print(f\"\\n Paper {idx+1}: {paper['title']}\")\n",
    "\n",
    "    prompt = f\"Summarize:\\n{paper['summary']}\"\n",
    "    response = model.generate(prompt=prompt)\n",
    "    \n",
    "    if 'results' in response:\n",
    "        summary = response['results'][0]['generated_text']\n",
    "        print(f\" Summary: {summary[:300]}...\")\n",
    "    else:\n",
    "        print(\" No response from model.\")\n"
   ]
  },
  {
   "cell_type": "code",
   "execution_count": 50,
   "metadata": {
    "id": "16bfe2da-0166-40d9-b32a-673bd6f234a6"
   },
   "outputs": [
    {
     "name": "stdout",
     "output_type": "stream",
     "text": [
      "\n",
      "🕵️‍♂️ Processing paper 1: White Paper: The Generative Education (GenEd) Framework...\n",
      "✅ Summary generated for: White Paper: The Generative Education (GenEd) Framework\n",
      "📄 The Generative Education (GenEd) Framework explores the transition from Large Language Models...\n",
      "\n",
      "🕵️‍♂️ Processing paper 2: Generative AI in Education: A Study of Educators' Awareness,...\n",
      "✅ Summary generated for: Generative AI in Education: A Study of Educators' Awareness,\n",
      "📄 This study delves into university instructors' experiences and attitudes toward AI language models, filling a...\n",
      "\n",
      "🕵️‍♂️ Processing paper 3: Enhancing AI-Driven Education: Integrating Cognitive Framewo...\n",
      "✅ Summary generated for: Enhancing AI-Driven Education: Integrating Cognitive Framewo\n",
      "📄 This paper synthesizes insights from four related studies to propose a comprehensive framework for enhancing...\n",
      "\n",
      "📁 ✅ Document saved as Research_Summaries.docx\n"
     ]
    }
   ],
   "source": [
    "summarize_and_export(papers)"
   ]
  }
 ],
 "metadata": {
  "kernelspec": {
   "display_name": "Python 3.11",
   "language": "python",
   "name": "python3"
  },
  "language_info": {
   "codemirror_mode": {
    "name": "ipython",
    "version": 3
   },
   "file_extension": ".py",
   "mimetype": "text/x-python",
   "name": "python",
   "nbconvert_exporter": "python",
   "pygments_lexer": "ipython3",
   "version": "3.11.13"
  }
 },
 "nbformat": 4,
 "nbformat_minor": 4
}
